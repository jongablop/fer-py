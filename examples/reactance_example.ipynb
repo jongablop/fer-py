{
  "nbformat": 4,
  "nbformat_minor": 0,
  "metadata": {
    "colab": {
      "provenance": []
    },
    "kernelspec": {
      "name": "python3",
      "display_name": "Python 3"
    },
    "language_info": {
      "name": "python"
    }
  },
  "cells": [
    {
      "cell_type": "code",
      "source": [
        "#!pip install --upgrade ferpy"
      ],
      "metadata": {
        "id": "Ef5_jzDQvmER"
      },
      "execution_count": 21,
      "outputs": []
    },
    {
      "cell_type": "markdown",
      "source": [
        "This notebook shows how to report an experimental result using `ferpy`.\n",
        "The example shown here is taken from JCGM 100:2008, Example H.2: Simultaneous resistance and reactance measurement.\n",
        "\n",
        "That example states the following problem:\n",
        "\n",
        "> The resistance $R$ and the reactance $X$ of a circuit element are determined by measuring the amplitude $V$ of a\n",
        "sinusoidally-alternating potential difference across its terminals, the amplitude $I$ of the alternating current\n",
        "passing through it, and the phase-shift angle\n",
        "$\\Phi$ of the alternating potential difference relative to the alternating\n",
        "current. Thus the three input quantities are V, I, and\n",
        "$Φ$ and the three output quantities — the measurands —\n",
        "are the three impedance components $R$, $X$, and $Z$. Since $Z^2 = R^2 + X^2$, there are only two independent output\n",
        "quantities.\n",
        "\n",
        ">The measurands are related to the input quantities by Ohm's law:\n",
        "\n",
        ">\\begin{equation}\n",
        "R = \\frac{V}{I} \\cos \\Phi ; \\quad X = \\frac{V}{I} \\sin \\Phi ; \\quad Z = \\frac{V}{I} ;\n",
        "\\end{equation}"
      ],
      "metadata": {
        "id": "_Cg28kNMAup5"
      }
    },
    {
      "cell_type": "markdown",
      "source": [
        "The example says that we make five independent sets of simultaneous observations of the three input quantities $V$, $I$, and $\\Phi$. We can use `QuantityValues` structures to record those indications. For example:"
      ],
      "metadata": {
        "id": "clEKZ0acCxYR"
      }
    },
    {
      "cell_type": "markdown",
      "source": [],
      "metadata": {
        "id": "hklM1ToMB_kR"
      }
    },
    {
      "cell_type": "code",
      "source": [
        "from ferpy.main.quantity_values import QuantityValues"
      ],
      "metadata": {
        "id": "csD96_AcFX4s"
      },
      "execution_count": 4,
      "outputs": []
    },
    {
      "cell_type": "code",
      "source": [
        "qv1 = QuantityValues(\n",
        "    name=\"First observation\",\n",
        "    description=\"Simultaneous observation of $V$, $I$ and $\\Phi$\",\n",
        "    quantities=[\"Potential difference\", \"Current intensity\", \"Phase-shift angle\"],\n",
        "    symbols=[\"V\", \"I\", \"\\Phi\"],\n",
        "    units=[\"\\Omega\",\"mA\",\"rad\"],\n",
        "    values=[[5.007],[19.663],[1.045_6]],\n",
        ")"
      ],
      "metadata": {
        "id": "Xc68IZ2fBjj_"
      },
      "execution_count": 5,
      "outputs": []
    },
    {
      "cell_type": "markdown",
      "source": [
        "Of course, these Python objects can be used as templates, and filled automatically:"
      ],
      "metadata": {
        "id": "O4Lps5KKOmcG"
      }
    },
    {
      "cell_type": "code",
      "source": [
        "#These are the simultaneous indications\n",
        "V_indications = [5.007, 4.994, 5.005, 4.990, 4.999]\n",
        "I_indications = [19.663, 19.639, 19.640, 19.685, 19.678]\n",
        "Phi_indications = [1.045_6, 1.043_8, 1.046_8, 1.042_8, 1.043_3]\n",
        "\n",
        "names = [\"First observation\", \"Second observation\", \"Third observation\", \"Fourth observation\", \"Fifth observation\"]\n",
        "\n",
        "all_qv = []\n",
        "\n",
        "for i in range(len(V_indications)):\n",
        "  temp_qv = QuantityValues(\n",
        "      name=names[i],\n",
        "      description=\"Simultaneous observation of $V$, $I$ and $\\Phi$\",\n",
        "      quantities=[\"Potential difference\", \"Current intensity\", \"Phase-shift angle\"],\n",
        "      symbols=[\"V\", \"I\", \"\\Phi\"],\n",
        "      units=[\"\\Omega\",\"mA\",\"rad\"],\n",
        "      values=[V_indications[i],I_indications[i],Phi_indications[i]],\n",
        "      correlation_indices=[0,1,2]\n",
        "  )\n",
        "\n",
        "  all_qv.append(temp_qv)"
      ],
      "metadata": {
        "id": "dXt-GhE9Ohmn"
      },
      "execution_count": 6,
      "outputs": []
    },
    {
      "cell_type": "markdown",
      "source": [
        "Now we can have 5 `Measurement` objects to represent those 5 sets of independent measurements: the quantity values defined above will be the results of those measurements, and their sources will be a description of the instrument used to measure them. As they are raw indications, the `input_quantities` of the `Source` will be `null`."
      ],
      "metadata": {
        "id": "mGlqet9RQKS0"
      }
    },
    {
      "cell_type": "code",
      "source": [
        "from ferpy.main.measurement import Measurement\n",
        "from ferpy.main.source import Source"
      ],
      "metadata": {
        "id": "4CKlpQ_0Q87e"
      },
      "execution_count": 7,
      "outputs": []
    },
    {
      "cell_type": "code",
      "source": [
        "all_indication_measurements = []\n",
        "\n",
        "for qv in all_qv:\n",
        "\n",
        "  source = Source(\n",
        "      name=\"Instrument to measure $V$, $I$ and $\\Phi$\",\n",
        "      description=\"\"\"\n",
        "        The instrument measures the amplitude $V$ of a\n",
        "        sinusoidally-alternating potential difference across its terminals,\n",
        "        the amplitude $I$ of the alternating current\n",
        "        passing through it, and the phase-shift angle $\\Phi$ of the alternating\n",
        "        potential difference relative to the alternating\n",
        "        current.\n",
        "      \"\"\",\n",
        "      correlations=None,\n",
        "      input_quantities=[]\n",
        "  )\n",
        "\n",
        "  measurement = Measurement(\n",
        "      description=\"Simultaneous measurement of $V$, $I$ and $\\Phi$\",\n",
        "      correct = True,\n",
        "      results = [\n",
        "          qv\n",
        "      ],\n",
        "      correlations = None,\n",
        "      measurands = [\"Potential difference\", \"Current intensity\", \"Phase-shift angle\"],\n",
        "      source = source\n",
        "  )\n",
        "\n",
        "  all_indication_measurements.append(measurement)"
      ],
      "metadata": {
        "id": "4x0z7yvkQBOa"
      },
      "execution_count": 8,
      "outputs": []
    },
    {
      "cell_type": "markdown",
      "source": [
        "We can see the structure of one of the resulting `Measurement` objects:"
      ],
      "metadata": {
        "id": "YyBKeKFMhrKE"
      }
    },
    {
      "cell_type": "code",
      "source": [
        "all_indication_measurements[0].to_dict()"
      ],
      "metadata": {
        "colab": {
          "base_uri": "https://localhost:8080/"
        },
        "id": "ctctvyGchx5M",
        "outputId": "d1f86e65-0b51-41ec-8400-35140d74d91b"
      },
      "execution_count": 9,
      "outputs": [
        {
          "output_type": "execute_result",
          "data": {
            "text/plain": [
              "{'id': 'd7cffb62-131e-412c-9670-dfa1ae5d9021',\n",
              " 'description': 'Simultaneous measurement of $V$, $I$ and $\\\\Phi$',\n",
              " 'changelog': None,\n",
              " 'correct': True,\n",
              " 'state': None,\n",
              " 'results': [{'id': '8c1187d3-2062-4d5c-a8dc-73c8071e0bd6',\n",
              "   'name': 'First observation',\n",
              "   'description': 'Simultaneous observation of $V$, $I$ and $\\\\Phi$',\n",
              "   'changelog': None,\n",
              "   'quantities': ['Potential difference',\n",
              "    'Current intensity',\n",
              "    'Phase-shift angle'],\n",
              "   'symbols': ['V', 'I', '\\\\Phi'],\n",
              "   'units': ['\\\\Omega', 'mA', 'rad'],\n",
              "   'values': [5.007, 19.663, 1.0456],\n",
              "   'standard_uncertainties': None,\n",
              "   'coverages': None,\n",
              "   'probability_density_functions': None,\n",
              "   'correlation_indices': [0, 1, 2]}],\n",
              " 'correlations': None,\n",
              " 'measurands': ['Potential difference',\n",
              "  'Current intensity',\n",
              "  'Phase-shift angle'],\n",
              " 'source': {'id': 'b3522418-1825-45eb-871c-7cb68f644428',\n",
              "  'name': 'Instrument to measure $V$, $I$ and $\\\\Phi$',\n",
              "  'description': '\\n        The instrument measures the amplitude $V$ of a\\n        sinusoidally-alternating potential difference across its terminals,\\n        the amplitude $I$ of the alternating current\\n        passing through it, and the phase-shift angle $\\\\Phi$ of the alternating\\n        potential difference relative to the alternating\\n        current.\\n      ',\n",
              "  'model': None,\n",
              "  'influence_quantities': None,\n",
              "  'input_quantities': [],\n",
              "  'correlations': None}}"
            ]
          },
          "metadata": {},
          "execution_count": 9
        }
      ]
    },
    {
      "cell_type": "markdown",
      "source": [
        "In order to report a measuring model, the most suitable way is by extending a `Source` object and implementing the measuring model in its methods:"
      ],
      "metadata": {
        "id": "U6TLdV-kWQgg"
      }
    },
    {
      "cell_type": "code",
      "source": [
        "import numpy as np"
      ],
      "metadata": {
        "id": "FTXWJREqR7kS"
      },
      "execution_count": 10,
      "outputs": []
    },
    {
      "cell_type": "code",
      "source": [
        "class CalculateAverages(Source):\n",
        "\n",
        "  def compute_averages(self):\n",
        "    \"\"\"\n",
        "    This methods computes the mean and the standard deviation of the input\n",
        "    quantities and returns a QuantityValues object.\n",
        "    \"\"\"\n",
        "    all_V = []\n",
        "    all_I = []\n",
        "    all_Phi = []\n",
        "\n",
        "    for measurement in self.input_quantities:\n",
        "      for qv in measurement.results:\n",
        "        all_V.append(qv.values[0])\n",
        "        all_I.append(qv.values[1])\n",
        "        all_Phi.append(qv.values[2])\n",
        "\n",
        "    # Compute the mean of the independent mesurements\n",
        "    mean_V = np.mean(all_V)\n",
        "    mean_I = np.mean(all_I)\n",
        "    mean_Phi = np.mean(all_Phi)\n",
        "\n",
        "    #print(all_I)\n",
        "    #print(all_Phi)\n",
        "\n",
        "    # Compute the experimental standard deviation\n",
        "    std_V = np.std(all_V, ddof=1)/np.sqrt(len(all_V))\n",
        "    std_I = np.std(all_I, ddof=1)/np.sqrt(len(all_I))\n",
        "    std_Phi = np.std(all_Phi, ddof=1)/np.sqrt(len(all_Phi))\n",
        "\n",
        "    #print(mean_V, mean_I, mean_Phi)\n",
        "    #print(std_V, std_I, std_Phi)\n",
        "\n",
        "    \"\"\"\n",
        "    The means are taken as the best estimates of the expected values of the\n",
        "    input quantities, and the experimental standard deviations are the standard\n",
        "    uncertainties of those means.\n",
        "    \"\"\"\n",
        "\n",
        "    # Round the standard uncertainties to two significant digits, and then\n",
        "    # round the means accordingly.\n",
        "\n",
        "    std_V = self.signif(std_V, 2)\n",
        "    std_I = self.signif(std_I, 2)\n",
        "    std_Phi = self.signif(std_Phi, 2)\n",
        "    #print(std_V, std_I, std_Phi)\n",
        "\n",
        "    mean_V = self.round_mean(mean_V, std_V)\n",
        "    mean_I = self.round_mean(mean_I, std_I)\n",
        "    mean_Phi = self.round_mean(mean_Phi, std_Phi)\n",
        "    #print(mean_V, mean_I, mean_Phi)\n",
        "\n",
        "    result_qv = QuantityValues(\n",
        "        name=\"Mean values and standard uncertainties of $V$, $I$ and $\\Phi$\",\n",
        "        description=\"Mean values and standard uncertainties of $V$, $I$ and $\\Phi$\",\n",
        "        quantities=[\n",
        "            \"Mean potential difference\",\n",
        "            \"Mean current intensity\",\n",
        "            \"Mean phase-shift angle\"\n",
        "        ],\n",
        "        symbols=[\"\\bar{V}\", \"\\bar{I}\", \"\\bar{\\Phi}\"],\n",
        "        units=[\"\\Omega\",\"mA\",\"rad\"],\n",
        "        values=[[mean_V],[mean_I],[mean_Phi]],\n",
        "        standard_uncertainties=[[std_V], [std_I], [std_Phi]]\n",
        "    )\n",
        "\n",
        "    return result_qv\n",
        "\n",
        "  def compute_correlation_coefficients(self):\n",
        "\n",
        "    all_V = []\n",
        "    all_I = []\n",
        "    all_Phi = []\n",
        "\n",
        "    for measurement in self.input_quantities:\n",
        "      for qv in measurement.results:\n",
        "        all_V.append(qv.values[0])\n",
        "        all_I.append(qv.values[1])\n",
        "        all_Phi.append(qv.values[2])\n",
        "\n",
        "    return np.corrcoef([all_V, all_I, all_Phi])\n",
        "\n",
        "  def signif(self, x, p):\n",
        "    # Taken from:\n",
        "    # https://stackoverflow.com/questions/18915378/rounding-to-significant-figures-in-numpy\n",
        "    x = np.asarray(x)\n",
        "    x_positive = np.where(np.isfinite(x) & (x != 0), np.abs(x), 10**(p-1))\n",
        "    mags = 10 ** (p - 1 - np.floor(np.log10(x_positive)))\n",
        "    return np.round(x * mags) / mags\n",
        "\n",
        "  def round_mean(self, mean, std):\n",
        "\n",
        "    return np.round(mean, len(str(std).split('.')[-1]))"
      ],
      "metadata": {
        "id": "8Zt8BS-2WhOG"
      },
      "execution_count": 11,
      "outputs": []
    },
    {
      "cell_type": "code",
      "source": [
        "calculate_average_source = CalculateAverages(\n",
        "    name=\"Mean and standard uncertainties of $V$, $I$ and $\\Phi$\",\n",
        "    description=\"Mean and standard uncertainties of $V$, $I$ and $\\Phi$\",\n",
        "    input_quantities=all_indication_measurements\n",
        ")"
      ],
      "metadata": {
        "id": "SWqHrexMXfqP"
      },
      "execution_count": 12,
      "outputs": []
    },
    {
      "cell_type": "markdown",
      "source": [
        "Once the `Source` object is ready, we can create a `Measurement` that will report the results generated by that source:"
      ],
      "metadata": {
        "id": "M58Rafz_f5mD"
      }
    },
    {
      "cell_type": "code",
      "source": [
        "mean_measurement = Measurement(\n",
        "    description=\"\",\n",
        "    correct=True,\n",
        "    measurands=[\n",
        "        \"Mean potential difference\",\n",
        "        \"Mean current intensity\",\n",
        "        \"Mean phase-shift angle\"\n",
        "    ],\n",
        "    source=calculate_average_source\n",
        ")\n",
        "\n",
        "mean_measurement.results = [mean_measurement.source.compute_averages()]"
      ],
      "metadata": {
        "id": "gkCzGGtBXsVr"
      },
      "execution_count": 13,
      "outputs": []
    },
    {
      "cell_type": "markdown",
      "source": [
        "We can also add the correlation matrix to that measurement:"
      ],
      "metadata": {
        "id": "Pm6fsmgByLGH"
      }
    },
    {
      "cell_type": "code",
      "source": [
        "from ferpy.auxiliary.correlations import Correlations"
      ],
      "metadata": {
        "id": "4hKVRCasyUhX"
      },
      "execution_count": 14,
      "outputs": []
    },
    {
      "cell_type": "code",
      "source": [
        "mean_measurement.correlations = Correlations(\n",
        "    quantities=mean_measurement.measurands,\n",
        "    correlation_matrix=mean_measurement.source.compute_correlation_coefficients(),\n",
        "    method=\"np.corrcoef\"\n",
        ")"
      ],
      "metadata": {
        "id": "zGCRWvxYyPC_"
      },
      "execution_count": 15,
      "outputs": []
    },
    {
      "cell_type": "markdown",
      "source": [
        "Finally we can create the `Source` to compute the measurands of our experiment based in the $\\bar{V}$, $\\bar{I}$, $\\bar{\\Phi}$ that we have obtained so far."
      ],
      "metadata": {
        "id": "Duc0ZRqBzPkl"
      }
    },
    {
      "cell_type": "code",
      "source": [
        "class RXZcalculation(Source):\n",
        "\n",
        "  def update_variables(self):\n",
        "\n",
        "    results_qv = self.input_quantities[0].results[0]\n",
        "\n",
        "    self._V = results_qv.values[0][0]\n",
        "    self._I = results_qv.values[1][0]*1e-3\n",
        "    self._Phi = results_qv.values[2][0]\n",
        "\n",
        "    self._u_V = results_qv.standard_uncertainties[0][0]\n",
        "    self._u_I = results_qv.standard_uncertainties[1][0]*1e-3\n",
        "    self._u_Phi = results_qv.standard_uncertainties[2][0]\n",
        "\n",
        "    self._cor_V_I = self.input_quantities[0].correlations.correlation_matrix[0][1]\n",
        "    self._cor_V_Phi = self.input_quantities[0].correlations.correlation_matrix[0][2]\n",
        "    self._cor_I_Phi = cor_V_I = self.input_quantities[0].correlations.correlation_matrix[1][2]\n",
        "\n",
        "  def compute_results(self):\n",
        "    self.update_variables()\n",
        "\n",
        "    self._Z = self._V/self._I\n",
        "    self._R = self._Z*np.cos(self._Phi)\n",
        "    self._X = self._Z*np.sin(self._Phi)\n",
        "\n",
        "    #print(self._R, self._X, self._Z)\n",
        "\n",
        "  def compute_standard_uncertainties(self):\n",
        "\n",
        "    if None in (self._Z, self._R, self._X):\n",
        "      self.compute_results()\n",
        "\n",
        "    self._u_Z = self.Z_standard_uncertainty(\n",
        "        self._u_V,\n",
        "        self._V,\n",
        "        self._u_I,\n",
        "        self._I,\n",
        "        self._cor_V_I,\n",
        "        self._Z\n",
        "    )\n",
        "\n",
        "    self._u_R = self.R_standard_uncertainty(\n",
        "        self._u_V,\n",
        "        self._V,\n",
        "        self._u_I,\n",
        "        self._I,\n",
        "        self._u_Phi,\n",
        "        self._Phi,\n",
        "        self._cor_V_I,\n",
        "        self._cor_V_Phi,\n",
        "        self._cor_I_Phi\n",
        "    )\n",
        "\n",
        "    self._u_X = self.X_standard_uncertainty(\n",
        "        self._u_V,\n",
        "        self._V,\n",
        "        self._u_I,\n",
        "        self._I,\n",
        "        self._u_Phi,\n",
        "        self._Phi,\n",
        "        self._cor_V_I,\n",
        "        self._cor_V_Phi,\n",
        "        self._cor_I_Phi\n",
        "    )\n",
        "\n",
        "    #print(self._u_R, self._u_X, self._u_Z)\n",
        "\n",
        "    pass\n",
        "\n",
        "  def Z_standard_uncertainty(self, u_V, V, u_I, I, cor_V_I, Z):\n",
        "    # compute the relative uncertainties\n",
        "    u_V_r = u_V/V\n",
        "    u_I_r = u_I/I\n",
        "\n",
        "    correlation_factor = -2.0*u_V_r*u_I_r*cor_V_I\n",
        "\n",
        "    squared_sum = np.sum([u_V_r**2, u_I_r**2, correlation_factor])\n",
        "\n",
        "    return np.sqrt(squared_sum)*Z\n",
        "\n",
        "  def R_standard_uncertainty(self, u_V, V, u_I, I, u_Phi, Phi, cor_V_I, cor_V_Phi, cor_I_Phi):\n",
        "\n",
        "    coef1 = (np.cos(Phi)/I)\n",
        "    coef2 = (-V*np.cos(Phi)/I**2)\n",
        "    coef3 = (-V*np.sin(Phi)/I)\n",
        "\n",
        "    correlation_factor1 = 2.0*coef1*coef2*u_V*u_I*cor_V_I\n",
        "    correlation_factor2 = 2.0*coef1*coef3*u_V*u_Phi*cor_V_Phi\n",
        "    correlation_factor3 = 2.0*coef2*coef3*u_I*u_Phi*cor_I_Phi\n",
        "\n",
        "    squared_sum = np.sum([\n",
        "        (coef1*u_V)**2,\n",
        "        (coef2*u_I)**2,\n",
        "        (coef3*u_Phi)**2,\n",
        "        correlation_factor1,\n",
        "        correlation_factor2,\n",
        "        correlation_factor3,\n",
        "    ])\n",
        "\n",
        "    return np.sqrt(squared_sum)\n",
        "\n",
        "  def X_standard_uncertainty(self, u_V, V, u_I, I, u_Phi, Phi, cor_V_I, cor_V_Phi, cor_I_Phi):\n",
        "\n",
        "    coef1 = (np.sin(Phi)/I)\n",
        "    coef2 = (-V*np.sin(Phi)/I**2)\n",
        "    coef3 = (V*np.cos(Phi)/I)\n",
        "\n",
        "    correlation_factor1 = 2.0*coef1*coef2*u_V*u_I*cor_V_I\n",
        "    correlation_factor2 = 2.0*coef1*coef3*u_V*u_Phi*cor_V_Phi\n",
        "    correlation_factor3 = 2.0*coef2*coef3*u_I*u_Phi*cor_I_Phi\n",
        "\n",
        "    squared_sum = np.sum([\n",
        "        (coef1*u_V)**2,\n",
        "        (coef2*u_I)**2,\n",
        "        (coef3*u_Phi)**2,\n",
        "        correlation_factor1,\n",
        "        correlation_factor2,\n",
        "        correlation_factor3,\n",
        "    ])\n",
        "\n",
        "    return np.sqrt(squared_sum)\n",
        "\n",
        "  def get_results(self):\n",
        "\n",
        "    self.compute_results()\n",
        "    self.compute_standard_uncertainties()\n",
        "\n",
        "    result_qv = QuantityValues(\n",
        "      name=\"Values and standard uncertainties of $R$, $X$ and $Z$\",\n",
        "      description=\"Values and standard uncertainties of $R$, $X$ and $Z$\",\n",
        "      quantities=[\n",
        "          \"Resistance\",\n",
        "          \"Reactance\",\n",
        "          \"Impedance\"\n",
        "      ],\n",
        "      symbols=[\"R\", \"X\", \"Z\"],\n",
        "      units=[\"\\Omega\",\"\\Omega\",\"\\Omega\"],\n",
        "      values=[[self._R],[self._X],[self._Z]],\n",
        "      standard_uncertainties=[[self._u_R], [self._u_X], [self._u_Z]]\n",
        "    )\n",
        "\n",
        "    return result_qv"
      ],
      "metadata": {
        "id": "OOjE2kKExjxZ"
      },
      "execution_count": 16,
      "outputs": []
    },
    {
      "cell_type": "code",
      "source": [
        "RXZ_calculation_source = RXZcalculation()\n",
        "RXZ_calculation_source.input_quantities = [mean_measurement]"
      ],
      "metadata": {
        "id": "udPTgGa62u5Z"
      },
      "execution_count": 17,
      "outputs": []
    },
    {
      "cell_type": "markdown",
      "source": [
        "Now we can create the final `Measurement` object to store the results:"
      ],
      "metadata": {
        "id": "4vfuIJfgFdmI"
      }
    },
    {
      "cell_type": "code",
      "source": [
        "final_measurement = Measurement(\n",
        "    description=\"\",\n",
        "    correct=True,\n",
        "    measurands=[\n",
        "            \"Resistance\",\n",
        "            \"Reactance\",\n",
        "            \"Impedance\"\n",
        "        ],\n",
        "    source=RXZ_calculation_source\n",
        ")\n",
        "\n",
        "final_measurement.results = [final_measurement.source.get_results()]"
      ],
      "metadata": {
        "id": "M3FKuk4U27NY"
      },
      "execution_count": 18,
      "outputs": []
    },
    {
      "cell_type": "markdown",
      "source": [
        "The final results can be rendered directly using latex:"
      ],
      "metadata": {
        "id": "opuqtHnIGmgr"
      }
    },
    {
      "cell_type": "code",
      "source": [
        "from IPython.display import display, Math\n",
        "\n",
        "def render_result_as_latex(results, i):\n",
        "    \"\"\"\n",
        "    Renders a single result as a LaTeX string for displaying in Jupyter notebooks.\n",
        "\n",
        "    :param results: Object containing quantities, symbols, values, and uncertainties.\n",
        "    :param i: Index of the quantity to display.\n",
        "    \"\"\"\n",
        "    # Format the value and uncertainty to two decimal places\n",
        "    value = f\"{results.values[i][0]:.2f}\"\n",
        "    uncertainty = f\"{results.standard_uncertainties[i][0]:.2f}\"\n",
        "\n",
        "    # Build the LaTeX string\n",
        "    latex_str = (\n",
        "        r\"\\mathrm{\" + results.quantities[i] + \"}: \"  # Quantity name\n",
        "        + results.symbols[i]  # Symbol\n",
        "        + r\" = (\" + value + r\" \\pm \" + uncertainty + r\") \\, \\Omega\"  # Value and uncertainty\n",
        "    )\n",
        "\n",
        "    # Render LaTeX in the notebook\n",
        "    display(Math(latex_str))"
      ],
      "metadata": {
        "id": "lEniu9vADALp"
      },
      "execution_count": 19,
      "outputs": []
    },
    {
      "cell_type": "code",
      "source": [
        "results = final_measurement.results[0]\n",
        "\n",
        "for i in range(len(results.values)):\n",
        "  render_result_as_latex(results, i)"
      ],
      "metadata": {
        "colab": {
          "base_uri": "https://localhost:8080/",
          "height": 81
        },
        "id": "jurdSPXVHpOt",
        "outputId": "0ea12899-9056-4039-fcda-123cb9032238"
      },
      "execution_count": 20,
      "outputs": [
        {
          "output_type": "display_data",
          "data": {
            "text/plain": [
              "<IPython.core.display.Math object>"
            ],
            "text/latex": "$\\displaystyle \\mathrm{Resistance}: R = (127.73 \\pm 0.07) \\, \\Omega$"
          },
          "metadata": {}
        },
        {
          "output_type": "display_data",
          "data": {
            "text/plain": [
              "<IPython.core.display.Math object>"
            ],
            "text/latex": "$\\displaystyle \\mathrm{Reactance}: X = (219.85 \\pm 0.30) \\, \\Omega$"
          },
          "metadata": {}
        },
        {
          "output_type": "display_data",
          "data": {
            "text/plain": [
              "<IPython.core.display.Math object>"
            ],
            "text/latex": "$\\displaystyle \\mathrm{Impedance}: Z = (254.26 \\pm 0.24) \\, \\Omega$"
          },
          "metadata": {}
        }
      ]
    }
  ]
}